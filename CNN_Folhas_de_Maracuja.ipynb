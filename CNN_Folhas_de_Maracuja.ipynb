{
  "cells": [
    {
      "cell_type": "markdown",
      "metadata": {
        "id": "view-in-github",
        "colab_type": "text"
      },
      "source": [
        "<a href=\"https://colab.research.google.com/github/elisasmenendez/passionfruit-species-classifier/blob/main/CNN_Folhas_de_Maracuja.ipynb\" target=\"_parent\"><img src=\"https://colab.research.google.com/assets/colab-badge.svg\" alt=\"Open In Colab\"/></a>"
      ]
    },
    {
      "cell_type": "markdown",
      "metadata": {
        "id": "G7FCUfdyjwX0"
      },
      "source": [
        "# Redes Neurais Convolucionais"
      ]
    },
    {
      "cell_type": "markdown",
      "metadata": {
        "id": "yhmEZJDZhwyB"
      },
      "source": [
        "## Pré-processamento"
      ]
    },
    {
      "cell_type": "markdown",
      "metadata": {
        "id": "gBFUQR4Cj0cm"
      },
      "source": [
        "As Redes Neurais Convolucionais são mais adequadas para classificação de imagens. Nesta estratégia não é necessário utilizar todos os pixels da imagem pois são utilizados filtros para reduzir a dimensionalidade das imagens."
      ]
    },
    {
      "cell_type": "code",
      "execution_count": null,
      "metadata": {
        "id": "04beHmksi6jg"
      },
      "outputs": [],
      "source": [
        "#!pip install tensorflow==2.6.0"
      ]
    },
    {
      "cell_type": "code",
      "execution_count": 1,
      "metadata": {
        "id": "hSZygtsqgL3K"
      },
      "outputs": [],
      "source": [
        "import zipfile\n",
        "import numpy as np\n",
        "import tensorflow as tf\n",
        "from tensorflow.keras.models import Sequential\n",
        "from tensorflow.keras.layers import Conv2D, MaxPool2D, Flatten, Dense\n",
        "from tensorflow.keras.preprocessing.image import ImageDataGenerator\n",
        "import seaborn as sns"
      ]
    },
    {
      "cell_type": "code",
      "execution_count": 2,
      "metadata": {
        "colab": {
          "base_uri": "https://localhost:8080/"
        },
        "id": "1figM5WqgL3K",
        "outputId": "537af65b-c367-44ac-a199-7dbae3c88754"
      },
      "outputs": [
        {
          "output_type": "stream",
          "name": "stdout",
          "text": [
            "Downloading...\n",
            "From: https://drive.google.com/uc?id=1V-UqO4zKiCyhErteNcjUr8LqZHsITF5U\n",
            "To: /content/Dataset_Maracuja.zip\n",
            "100% 175M/175M [00:07<00:00, 24.2MB/s]\n"
          ]
        }
      ],
      "source": [
        "# Baixando o arquivo diretamente de um link compartilhável do Google Drive\n",
        "# Assim não precisa montar o Drive toda vez\n",
        "!gdown 1V-UqO4zKiCyhErteNcjUr8LqZHsITF5U"
      ]
    },
    {
      "cell_type": "code",
      "execution_count": null,
      "metadata": {
        "id": "ePi5e98NgL3L"
      },
      "outputs": [],
      "source": [
        "# Extraindo os arquivos\n",
        "zip_object = zipfile.ZipFile(file = 'Dataset_Maracuja.zip', mode = 'r')\n",
        "zip_object.extractall('./')\n",
        "zip_object.close()"
      ]
    },
    {
      "cell_type": "markdown",
      "metadata": {
        "id": "stq4lQsCiMjc"
      },
      "source": [
        "## Treinamento e Teste"
      ]
    },
    {
      "cell_type": "code",
      "execution_count": null,
      "metadata": {
        "id": "AbyzK6TKyRNL"
      },
      "outputs": [],
      "source": [
        "gerador_treinamento = ImageDataGenerator(rescale=1./255,       # Mudar a escala para 0..1\n",
        "                                         rotation_range=7,     # Rotações para gerar mais imagens\n",
        "                                         horizontal_flip=True, \n",
        "                                         zoom_range=0.2)"
      ]
    },
    {
      "cell_type": "code",
      "execution_count": null,
      "metadata": {
        "colab": {
          "base_uri": "https://localhost:8080/"
        },
        "id": "EFz4JVvczNeQ",
        "outputId": "2e5a9231-0f1f-449a-8032-ae3351853a1e"
      },
      "outputs": [
        {
          "output_type": "stream",
          "name": "stdout",
          "text": [
            "Found 196 images belonging to 3 classes.\n"
          ]
        }
      ],
      "source": [
        "dataset_treinamento = gerador_treinamento.flow_from_directory('/content/Dataset_Maracuja/training_set',\n",
        "                                                              target_size = (64, 64), # Redimensionamento para 64x64\n",
        "                                                              batch_size = 8,\n",
        "                                                              class_mode = 'categorical',\n",
        "                                                              shuffle = True)"
      ]
    },
    {
      "cell_type": "code",
      "execution_count": null,
      "metadata": {
        "colab": {
          "base_uri": "https://localhost:8080/"
        },
        "id": "BBF4DbXn0DZX",
        "outputId": "a2aad31b-2146-4ee3-90fe-674b4e535c9c"
      },
      "outputs": [
        {
          "output_type": "execute_result",
          "data": {
            "text/plain": [
              "{'Cincinnata': 0, 'Edulis': 1, 'Foetida': 2}"
            ]
          },
          "metadata": {},
          "execution_count": 7
        }
      ],
      "source": [
        "dataset_treinamento.class_indices"
      ]
    },
    {
      "cell_type": "code",
      "execution_count": null,
      "metadata": {
        "colab": {
          "base_uri": "https://localhost:8080/"
        },
        "id": "524m1qpd0KFv",
        "outputId": "9970d12e-62be-44f1-af29-bfa7dfa4421d"
      },
      "outputs": [
        {
          "output_type": "stream",
          "name": "stdout",
          "text": [
            "Found 48 images belonging to 3 classes.\n"
          ]
        }
      ],
      "source": [
        "gerador_teste = ImageDataGenerator(rescale=1./255)\n",
        "dataset_teste = gerador_teste.flow_from_directory('/content/Dataset_Maracuja/test_set',\n",
        "                                                  target_size = (64,64),\n",
        "                                                  batch_size = 1,\n",
        "                                                  class_mode = 'categorical',\n",
        "                                                  shuffle=False)"
      ]
    },
    {
      "cell_type": "markdown",
      "metadata": {
        "id": "bTSXqzWyCHUW"
      },
      "source": [
        "# Construção e treinamento da rede neural"
      ]
    },
    {
      "cell_type": "code",
      "execution_count": null,
      "metadata": {
        "colab": {
          "base_uri": "https://localhost:8080/"
        },
        "id": "neQRnpyl3uGw",
        "outputId": "87eadb8e-e93a-4896-d436-d97feb524590"
      },
      "outputs": [
        {
          "output_type": "execute_result",
          "data": {
            "text/plain": [
              "1152"
            ]
          },
          "metadata": {},
          "execution_count": 9
        }
      ],
      "source": [
        "6 * 6 * 32"
      ]
    },
    {
      "cell_type": "code",
      "execution_count": null,
      "metadata": {
        "colab": {
          "base_uri": "https://localhost:8080/"
        },
        "id": "YF6GbQvF348h",
        "outputId": "105c359e-cad8-4880-c2de-0cd9d449fc99"
      },
      "outputs": [
        {
          "output_type": "execute_result",
          "data": {
            "text/plain": [
              "577.0"
            ]
          },
          "metadata": {},
          "execution_count": 10
        }
      ],
      "source": [
        "(1152 + 2) / 2"
      ]
    },
    {
      "cell_type": "code",
      "execution_count": null,
      "metadata": {
        "colab": {
          "base_uri": "https://localhost:8080/"
        },
        "id": "hvXZwhvu1h-O",
        "outputId": "81ec19ab-306e-46ce-de6e-8da87181ad72"
      },
      "outputs": [
        {
          "output_type": "stream",
          "name": "stdout",
          "text": [
            "Model: \"sequential\"\n",
            "_________________________________________________________________\n",
            " Layer (type)                Output Shape              Param #   \n",
            "=================================================================\n",
            " conv2d (Conv2D)             (None, 62, 62, 32)        896       \n",
            "                                                                 \n",
            " max_pooling2d (MaxPooling2D  (None, 31, 31, 32)       0         \n",
            " )                                                               \n",
            "                                                                 \n",
            " conv2d_1 (Conv2D)           (None, 29, 29, 32)        9248      \n",
            "                                                                 \n",
            " max_pooling2d_1 (MaxPooling  (None, 14, 14, 32)       0         \n",
            " 2D)                                                             \n",
            "                                                                 \n",
            " conv2d_2 (Conv2D)           (None, 12, 12, 32)        9248      \n",
            "                                                                 \n",
            " max_pooling2d_2 (MaxPooling  (None, 6, 6, 32)         0         \n",
            " 2D)                                                             \n",
            "                                                                 \n",
            " flatten (Flatten)           (None, 1152)              0         \n",
            "                                                                 \n",
            " dense (Dense)               (None, 577)               665281    \n",
            "                                                                 \n",
            " dense_1 (Dense)             (None, 577)               333506    \n",
            "                                                                 \n",
            " dense_2 (Dense)             (None, 3)                 1734      \n",
            "                                                                 \n",
            "=================================================================\n",
            "Total params: 1,019,913\n",
            "Trainable params: 1,019,913\n",
            "Non-trainable params: 0\n",
            "_________________________________________________________________\n"
          ]
        }
      ],
      "source": [
        "network = Sequential()\n",
        "network.add(Conv2D(filters=32, kernel_size=(3,3), activation='relu', input_shape=(64,64,3)))\n",
        "network.add(MaxPool2D(pool_size=(2,2)))\n",
        "\n",
        "network.add(Conv2D(filters=32, kernel_size=(3,3), activation='relu'))\n",
        "network.add(MaxPool2D(pool_size=(2,2)))\n",
        "\n",
        "network.add(Conv2D(filters=32, kernel_size=(3,3), activation='relu'))\n",
        "network.add(MaxPool2D(pool_size=(2,2)))\n",
        "\n",
        "network.add(Flatten())\n",
        "\n",
        "network.add(Dense(units = 577, activation='relu'))\n",
        "network.add(Dense(units = 577, activation='relu'))\n",
        "network.add(Dense(units = 3, activation='softmax'))\n",
        "\n",
        "network.summary()"
      ]
    },
    {
      "cell_type": "code",
      "execution_count": null,
      "metadata": {
        "id": "Jdo8sIyE4lBJ"
      },
      "outputs": [],
      "source": [
        "network.compile(optimizer='Adam', loss='categorical_crossentropy', metrics=['accuracy'])"
      ]
    },
    {
      "cell_type": "code",
      "execution_count": null,
      "metadata": {
        "id": "c016oZV7uY_A"
      },
      "outputs": [],
      "source": [
        "import time\n",
        "# Tempo de início\n",
        "start = time.time()"
      ]
    },
    {
      "cell_type": "code",
      "execution_count": null,
      "metadata": {
        "colab": {
          "base_uri": "https://localhost:8080/"
        },
        "id": "9CEsE3Jp4xDa",
        "outputId": "2a2429ad-41d5-473b-cdfc-19a5b2adb665"
      },
      "outputs": [
        {
          "output_type": "stream",
          "name": "stdout",
          "text": [
            "Epoch 1/100\n",
            "25/25 [==============================] - 18s 617ms/step - loss: 0.9055 - accuracy: 0.5867\n",
            "Epoch 2/100\n",
            "25/25 [==============================] - 15s 617ms/step - loss: 0.5423 - accuracy: 0.7704\n",
            "Epoch 3/100\n",
            "25/25 [==============================] - 15s 590ms/step - loss: 0.5355 - accuracy: 0.7602\n",
            "Epoch 4/100\n",
            "25/25 [==============================] - 15s 588ms/step - loss: 0.4289 - accuracy: 0.8367\n",
            "Epoch 5/100\n",
            "25/25 [==============================] - 16s 642ms/step - loss: 0.3322 - accuracy: 0.8622\n",
            "Epoch 6/100\n",
            "25/25 [==============================] - 15s 596ms/step - loss: 0.1987 - accuracy: 0.9337\n",
            "Epoch 7/100\n",
            "25/25 [==============================] - 15s 586ms/step - loss: 0.2534 - accuracy: 0.9337\n",
            "Epoch 8/100\n",
            "25/25 [==============================] - 15s 581ms/step - loss: 0.2408 - accuracy: 0.9133\n",
            "Epoch 9/100\n",
            "25/25 [==============================] - 15s 582ms/step - loss: 0.1629 - accuracy: 0.9490\n",
            "Epoch 10/100\n",
            "25/25 [==============================] - 15s 613ms/step - loss: 0.1608 - accuracy: 0.9286\n",
            "Epoch 11/100\n",
            "25/25 [==============================] - 15s 583ms/step - loss: 0.0798 - accuracy: 0.9694\n",
            "Epoch 12/100\n",
            "25/25 [==============================] - 15s 584ms/step - loss: 0.0734 - accuracy: 0.9745\n",
            "Epoch 13/100\n",
            "25/25 [==============================] - 16s 632ms/step - loss: 0.0501 - accuracy: 0.9847\n",
            "Epoch 14/100\n",
            "25/25 [==============================] - 15s 586ms/step - loss: 0.1292 - accuracy: 0.9592\n",
            "Epoch 15/100\n",
            "25/25 [==============================] - 15s 582ms/step - loss: 0.1691 - accuracy: 0.9337\n",
            "Epoch 16/100\n",
            "25/25 [==============================] - 15s 585ms/step - loss: 0.0580 - accuracy: 0.9745\n",
            "Epoch 17/100\n",
            "25/25 [==============================] - 15s 588ms/step - loss: 0.0609 - accuracy: 0.9796\n",
            "Epoch 18/100\n",
            "25/25 [==============================] - 16s 624ms/step - loss: 0.0572 - accuracy: 0.9643\n",
            "Epoch 19/100\n",
            "25/25 [==============================] - 15s 598ms/step - loss: 0.0731 - accuracy: 0.9694\n",
            "Epoch 20/100\n",
            "25/25 [==============================] - 15s 602ms/step - loss: 0.0568 - accuracy: 0.9796\n",
            "Epoch 21/100\n",
            "25/25 [==============================] - 17s 664ms/step - loss: 0.0176 - accuracy: 1.0000\n",
            "Epoch 22/100\n",
            "25/25 [==============================] - 15s 587ms/step - loss: 0.1047 - accuracy: 0.9694\n",
            "Epoch 23/100\n",
            "25/25 [==============================] - 15s 587ms/step - loss: 0.0894 - accuracy: 0.9745\n",
            "Epoch 24/100\n",
            "25/25 [==============================] - 15s 611ms/step - loss: 0.0338 - accuracy: 0.9949\n",
            "Epoch 25/100\n",
            "25/25 [==============================] - 15s 586ms/step - loss: 0.0083 - accuracy: 1.0000\n",
            "Epoch 26/100\n",
            "25/25 [==============================] - 15s 597ms/step - loss: 0.0215 - accuracy: 0.9847\n",
            "Epoch 27/100\n",
            "25/25 [==============================] - 15s 630ms/step - loss: 0.2122 - accuracy: 0.9388\n",
            "Epoch 28/100\n",
            "25/25 [==============================] - 15s 581ms/step - loss: 0.0629 - accuracy: 0.9694\n",
            "Epoch 29/100\n",
            "25/25 [==============================] - 15s 620ms/step - loss: 0.0549 - accuracy: 0.9847\n",
            "Epoch 30/100\n",
            "25/25 [==============================] - 15s 582ms/step - loss: 0.0301 - accuracy: 0.9796\n",
            "Epoch 31/100\n",
            "25/25 [==============================] - 15s 582ms/step - loss: 0.0337 - accuracy: 0.9949\n",
            "Epoch 32/100\n",
            "25/25 [==============================] - 16s 652ms/step - loss: 0.0266 - accuracy: 0.9949\n",
            "Epoch 33/100\n",
            "25/25 [==============================] - 15s 586ms/step - loss: 0.0308 - accuracy: 0.9898\n",
            "Epoch 34/100\n",
            "25/25 [==============================] - 15s 584ms/step - loss: 0.0137 - accuracy: 0.9898\n",
            "Epoch 35/100\n",
            "25/25 [==============================] - 15s 578ms/step - loss: 0.0114 - accuracy: 0.9949\n",
            "Epoch 36/100\n",
            "25/25 [==============================] - 15s 584ms/step - loss: 0.0099 - accuracy: 0.9949\n",
            "Epoch 37/100\n",
            "25/25 [==============================] - 15s 580ms/step - loss: 0.0226 - accuracy: 0.9847\n",
            "Epoch 38/100\n",
            "25/25 [==============================] - 15s 587ms/step - loss: 0.0254 - accuracy: 0.9847\n",
            "Epoch 39/100\n",
            "25/25 [==============================] - 15s 585ms/step - loss: 0.1547 - accuracy: 0.9337\n",
            "Epoch 40/100\n",
            "25/25 [==============================] - 15s 606ms/step - loss: 0.0291 - accuracy: 0.9898\n",
            "Epoch 41/100\n",
            "25/25 [==============================] - 16s 626ms/step - loss: 0.0595 - accuracy: 0.9898\n",
            "Epoch 42/100\n",
            "25/25 [==============================] - 15s 589ms/step - loss: 0.0203 - accuracy: 0.9898\n",
            "Epoch 43/100\n",
            "25/25 [==============================] - 16s 659ms/step - loss: 0.0082 - accuracy: 0.9949\n",
            "Epoch 44/100\n",
            "25/25 [==============================] - 15s 588ms/step - loss: 0.0378 - accuracy: 0.9949\n",
            "Epoch 45/100\n",
            "25/25 [==============================] - 15s 582ms/step - loss: 0.0576 - accuracy: 0.9898\n",
            "Epoch 46/100\n",
            "25/25 [==============================] - 15s 608ms/step - loss: 0.0141 - accuracy: 0.9949\n",
            "Epoch 47/100\n",
            "25/25 [==============================] - 15s 583ms/step - loss: 0.0103 - accuracy: 0.9949\n",
            "Epoch 48/100\n",
            "25/25 [==============================] - 15s 583ms/step - loss: 0.0019 - accuracy: 1.0000\n",
            "Epoch 49/100\n",
            "25/25 [==============================] - 15s 591ms/step - loss: 0.0184 - accuracy: 0.9898\n",
            "Epoch 50/100\n",
            "25/25 [==============================] - 15s 588ms/step - loss: 0.0016 - accuracy: 1.0000\n",
            "Epoch 51/100\n",
            "25/25 [==============================] - 15s 614ms/step - loss: 0.0017 - accuracy: 1.0000\n",
            "Epoch 52/100\n",
            "25/25 [==============================] - 15s 585ms/step - loss: 0.0040 - accuracy: 1.0000\n",
            "Epoch 53/100\n",
            "25/25 [==============================] - 15s 587ms/step - loss: 0.0306 - accuracy: 0.9847\n",
            "Epoch 54/100\n",
            "25/25 [==============================] - 16s 646ms/step - loss: 0.0933 - accuracy: 0.9745\n",
            "Epoch 55/100\n",
            "25/25 [==============================] - 15s 582ms/step - loss: 0.0278 - accuracy: 0.9898\n",
            "Epoch 56/100\n",
            "25/25 [==============================] - 15s 584ms/step - loss: 0.0074 - accuracy: 1.0000\n",
            "Epoch 57/100\n",
            "25/25 [==============================] - 15s 616ms/step - loss: 0.0059 - accuracy: 0.9949\n",
            "Epoch 58/100\n",
            "25/25 [==============================] - 15s 591ms/step - loss: 0.0290 - accuracy: 0.9949\n",
            "Epoch 59/100\n",
            "25/25 [==============================] - 15s 591ms/step - loss: 0.0031 - accuracy: 1.0000\n",
            "Epoch 60/100\n",
            "25/25 [==============================] - 15s 584ms/step - loss: 0.0071 - accuracy: 1.0000\n",
            "Epoch 61/100\n",
            "25/25 [==============================] - 15s 594ms/step - loss: 0.0478 - accuracy: 0.9898\n",
            "Epoch 62/100\n",
            "25/25 [==============================] - 16s 625ms/step - loss: 0.0504 - accuracy: 0.9796\n",
            "Epoch 63/100\n",
            "25/25 [==============================] - 15s 592ms/step - loss: 0.1616 - accuracy: 0.9694\n",
            "Epoch 64/100\n",
            "25/25 [==============================] - 15s 581ms/step - loss: 0.0501 - accuracy: 0.9796\n",
            "Epoch 65/100\n",
            "25/25 [==============================] - 15s 586ms/step - loss: 0.0069 - accuracy: 1.0000\n",
            "Epoch 66/100\n",
            "25/25 [==============================] - 15s 582ms/step - loss: 0.0024 - accuracy: 1.0000\n",
            "Epoch 67/100\n",
            "25/25 [==============================] - 15s 617ms/step - loss: 0.0093 - accuracy: 0.9949\n",
            "Epoch 68/100\n",
            "25/25 [==============================] - 15s 584ms/step - loss: 0.0429 - accuracy: 0.9898\n",
            "Epoch 69/100\n",
            "25/25 [==============================] - 15s 585ms/step - loss: 0.0300 - accuracy: 0.9949\n",
            "Epoch 70/100\n",
            "25/25 [==============================] - 15s 583ms/step - loss: 0.0140 - accuracy: 0.9949\n",
            "Epoch 71/100\n",
            "25/25 [==============================] - 15s 580ms/step - loss: 0.0204 - accuracy: 0.9847\n",
            "Epoch 72/100\n",
            "25/25 [==============================] - 15s 613ms/step - loss: 0.0114 - accuracy: 1.0000\n",
            "Epoch 73/100\n",
            "25/25 [==============================] - 15s 583ms/step - loss: 0.0026 - accuracy: 1.0000\n",
            "Epoch 74/100\n",
            "25/25 [==============================] - 16s 647ms/step - loss: 0.0053 - accuracy: 1.0000\n",
            "Epoch 75/100\n",
            "25/25 [==============================] - 15s 589ms/step - loss: 0.0087 - accuracy: 0.9949\n",
            "Epoch 76/100\n",
            "25/25 [==============================] - 15s 584ms/step - loss: 0.0056 - accuracy: 1.0000\n",
            "Epoch 77/100\n",
            "25/25 [==============================] - 16s 619ms/step - loss: 0.0222 - accuracy: 0.9898\n",
            "Epoch 78/100\n",
            "25/25 [==============================] - 15s 589ms/step - loss: 0.1736 - accuracy: 0.9541\n",
            "Epoch 79/100\n",
            "25/25 [==============================] - 15s 587ms/step - loss: 0.0695 - accuracy: 0.9745\n",
            "Epoch 80/100\n",
            "25/25 [==============================] - 15s 593ms/step - loss: 0.0223 - accuracy: 0.9949\n",
            "Epoch 81/100\n",
            "25/25 [==============================] - 15s 586ms/step - loss: 0.0027 - accuracy: 1.0000\n",
            "Epoch 82/100\n",
            "25/25 [==============================] - 15s 617ms/step - loss: 0.0143 - accuracy: 0.9949\n",
            "Epoch 83/100\n",
            "25/25 [==============================] - 15s 588ms/step - loss: 0.0047 - accuracy: 1.0000\n",
            "Epoch 84/100\n",
            "25/25 [==============================] - 16s 625ms/step - loss: 0.0029 - accuracy: 1.0000\n",
            "Epoch 85/100\n",
            "25/25 [==============================] - 15s 583ms/step - loss: 0.0165 - accuracy: 0.9898\n",
            "Epoch 86/100\n",
            "25/25 [==============================] - 15s 584ms/step - loss: 0.0011 - accuracy: 1.0000\n",
            "Epoch 87/100\n",
            "25/25 [==============================] - 15s 619ms/step - loss: 0.0013 - accuracy: 1.0000\n",
            "Epoch 88/100\n",
            "25/25 [==============================] - 15s 583ms/step - loss: 0.0023 - accuracy: 1.0000\n",
            "Epoch 89/100\n",
            "25/25 [==============================] - 15s 587ms/step - loss: 0.0049 - accuracy: 1.0000\n",
            "Epoch 90/100\n",
            "25/25 [==============================] - 15s 621ms/step - loss: 0.0013 - accuracy: 1.0000\n",
            "Epoch 91/100\n",
            "25/25 [==============================] - 15s 585ms/step - loss: 2.8195e-04 - accuracy: 1.0000\n",
            "Epoch 92/100\n",
            "25/25 [==============================] - 16s 631ms/step - loss: 0.0197 - accuracy: 0.9949\n",
            "Epoch 93/100\n",
            "25/25 [==============================] - 15s 585ms/step - loss: 0.0133 - accuracy: 0.9898\n",
            "Epoch 94/100\n",
            "25/25 [==============================] - 15s 616ms/step - loss: 0.0022 - accuracy: 1.0000\n",
            "Epoch 95/100\n",
            "25/25 [==============================] - 15s 599ms/step - loss: 1.6591e-04 - accuracy: 1.0000\n",
            "Epoch 96/100\n",
            "25/25 [==============================] - 15s 581ms/step - loss: 0.0014 - accuracy: 1.0000\n",
            "Epoch 97/100\n",
            "25/25 [==============================] - 15s 632ms/step - loss: 2.2599e-04 - accuracy: 1.0000\n",
            "Epoch 98/100\n",
            "25/25 [==============================] - 15s 585ms/step - loss: 0.0025 - accuracy: 1.0000\n",
            "Epoch 99/100\n",
            "25/25 [==============================] - 15s 581ms/step - loss: 8.0294e-05 - accuracy: 1.0000\n",
            "Epoch 100/100\n",
            "25/25 [==============================] - 15s 601ms/step - loss: 0.0209 - accuracy: 0.9898\n"
          ]
        }
      ],
      "source": [
        "historico = network.fit(dataset_treinamento, epochs=100)"
      ]
    },
    {
      "cell_type": "code",
      "execution_count": null,
      "metadata": {
        "colab": {
          "base_uri": "https://localhost:8080/"
        },
        "id": "urX72-Pxur4T",
        "outputId": "9336880b-9c84-4df8-b9c5-82e0684ad7d1"
      },
      "outputs": [
        {
          "metadata": {
            "tags": null
          },
          "name": "stdout",
          "output_type": "stream",
          "text": [
            "1888.1850316524506\n"
          ]
        }
      ],
      "source": [
        "end = time.time()\n",
        "print(end - start)"
      ]
    },
    {
      "cell_type": "markdown",
      "metadata": {
        "id": "Ld-eNk2VCR7N"
      },
      "source": [
        "# Avaliação da rede neural"
      ]
    },
    {
      "cell_type": "code",
      "execution_count": null,
      "metadata": {
        "colab": {
          "base_uri": "https://localhost:8080/"
        },
        "id": "_5bHu1OM5mo5",
        "outputId": "c7bad3b2-2fcc-4e1d-fde4-4dca7916162f"
      },
      "outputs": [
        {
          "output_type": "execute_result",
          "data": {
            "text/plain": [
              "{'Cincinnata': 0, 'Edulis': 1, 'Foetida': 2}"
            ]
          },
          "metadata": {},
          "execution_count": 16
        }
      ],
      "source": [
        "dataset_teste.class_indices"
      ]
    },
    {
      "cell_type": "code",
      "execution_count": null,
      "metadata": {
        "colab": {
          "base_uri": "https://localhost:8080/"
        },
        "id": "PtPUzRSP5qCI",
        "outputId": "3ebac911-3da4-4a97-a509-380ce18a6b1c"
      },
      "outputs": [
        {
          "output_type": "stream",
          "name": "stdout",
          "text": [
            "48/48 [==============================] - 4s 74ms/step\n"
          ]
        },
        {
          "output_type": "execute_result",
          "data": {
            "text/plain": [
              "array([[1.00000000e+00, 2.59449212e-10, 8.54164219e-14],\n",
              "       [1.00000000e+00, 2.31249420e-09, 5.64246187e-14],\n",
              "       [1.00000000e+00, 4.53487781e-09, 9.85099502e-12],\n",
              "       [9.99997377e-01, 2.65209383e-06, 7.49304396e-10],\n",
              "       [9.99933839e-01, 6.52770032e-05, 8.02292391e-07],\n",
              "       [9.99862313e-01, 1.37635609e-04, 3.13695523e-08],\n",
              "       [9.99417305e-01, 5.35811589e-04, 4.69059341e-05],\n",
              "       [9.99999762e-01, 2.56063004e-07, 2.70137385e-12],\n",
              "       [1.00000000e+00, 1.52234740e-08, 4.73332528e-12],\n",
              "       [9.89024043e-01, 1.09759420e-02, 2.82485466e-08],\n",
              "       [6.37650192e-01, 3.62288296e-01, 6.14746896e-05],\n",
              "       [9.99301672e-01, 6.54160627e-04, 4.41702250e-05],\n",
              "       [5.84136073e-10, 1.00000000e+00, 2.13362550e-10],\n",
              "       [5.30319721e-06, 9.99983668e-01, 1.10901256e-05],\n",
              "       [6.33340358e-09, 1.00000000e+00, 1.55885012e-08],\n",
              "       [1.22665524e-05, 9.99987125e-01, 5.66328310e-07],\n",
              "       [1.04233955e-07, 9.99999881e-01, 7.40826220e-11],\n",
              "       [2.37144800e-11, 1.00000000e+00, 4.79405127e-10],\n",
              "       [1.68254921e-08, 9.99997020e-01, 2.99470958e-06],\n",
              "       [3.70332779e-13, 1.00000000e+00, 5.30276642e-14],\n",
              "       [8.03762196e-11, 1.00000000e+00, 1.29090749e-13],\n",
              "       [7.00286407e-08, 9.99999881e-01, 4.90444911e-08],\n",
              "       [1.66213039e-12, 1.00000000e+00, 1.78777577e-12],\n",
              "       [3.11771146e-07, 9.99993086e-01, 6.59766920e-06],\n",
              "       [5.31986043e-05, 1.71108209e-02, 9.82835948e-01],\n",
              "       [5.98461913e-14, 1.02062971e-08, 1.00000000e+00],\n",
              "       [2.20746892e-06, 2.97124898e-05, 9.99968052e-01],\n",
              "       [5.52897632e-07, 2.63964495e-04, 9.99735415e-01],\n",
              "       [2.90742319e-04, 4.18542419e-03, 9.95523810e-01],\n",
              "       [5.55936904e-15, 1.03472630e-09, 1.00000000e+00],\n",
              "       [8.16504269e-08, 2.63450306e-06, 9.99997258e-01],\n",
              "       [1.05192927e-13, 4.77496043e-10, 1.00000000e+00],\n",
              "       [2.63127231e-06, 9.69334738e-04, 9.99028087e-01],\n",
              "       [1.99575425e-05, 9.83970582e-01, 1.60094202e-02],\n",
              "       [2.26286419e-15, 5.24423525e-11, 1.00000000e+00],\n",
              "       [3.41902989e-07, 2.24890304e-04, 9.99774754e-01],\n",
              "       [1.19372904e-15, 7.02311889e-11, 1.00000000e+00],\n",
              "       [4.52002628e-12, 2.52336214e-08, 1.00000000e+00],\n",
              "       [4.39536184e-13, 8.19246981e-09, 1.00000000e+00],\n",
              "       [2.55118539e-06, 3.71627801e-04, 9.99625802e-01],\n",
              "       [7.41619093e-12, 1.07784359e-08, 1.00000000e+00],\n",
              "       [1.64787448e-20, 9.22770059e-15, 1.00000000e+00],\n",
              "       [1.58654511e-04, 7.59085476e-01, 2.40755931e-01],\n",
              "       [3.22906264e-22, 6.18484273e-15, 1.00000000e+00],\n",
              "       [1.39859799e-11, 1.08999361e-08, 1.00000000e+00],\n",
              "       [9.23058724e-06, 9.98925030e-01, 1.06563058e-03],\n",
              "       [8.50890842e-07, 1.78039484e-02, 9.82195199e-01],\n",
              "       [3.74698566e-08, 1.47647834e-05, 9.99985218e-01]], dtype=float32)"
            ]
          },
          "metadata": {},
          "execution_count": 17
        }
      ],
      "source": [
        "previsoes = network.predict(dataset_teste)\n",
        "previsoes"
      ]
    },
    {
      "cell_type": "code",
      "execution_count": null,
      "metadata": {
        "colab": {
          "base_uri": "https://localhost:8080/"
        },
        "id": "7eUxeTre6Tyu",
        "outputId": "4d705887-7981-4eef-d0d9-6cb49ef43979"
      },
      "outputs": [
        {
          "output_type": "execute_result",
          "data": {
            "text/plain": [
              "array([0, 0, 0, 0, 0, 0, 0, 0, 0, 0, 0, 0, 1, 1, 1, 1, 1, 1, 1, 1, 1, 1,\n",
              "       1, 1, 2, 2, 2, 2, 2, 2, 2, 2, 2, 1, 2, 2, 2, 2, 2, 2, 2, 2, 1, 2,\n",
              "       2, 1, 2, 2])"
            ]
          },
          "metadata": {},
          "execution_count": 18
        }
      ],
      "source": [
        "previsoes = np.argmax(previsoes, axis = 1)\n",
        "previsoes"
      ]
    },
    {
      "cell_type": "code",
      "execution_count": null,
      "metadata": {
        "colab": {
          "base_uri": "https://localhost:8080/"
        },
        "id": "7gToFWpw6ch5",
        "outputId": "342843d6-468f-4678-82cf-34973f03c621"
      },
      "outputs": [
        {
          "output_type": "execute_result",
          "data": {
            "text/plain": [
              "array([0, 0, 0, 0, 0, 0, 0, 0, 0, 0, 0, 0, 1, 1, 1, 1, 1, 1, 1, 1, 1, 1,\n",
              "       1, 1, 2, 2, 2, 2, 2, 2, 2, 2, 2, 2, 2, 2, 2, 2, 2, 2, 2, 2, 2, 2,\n",
              "       2, 2, 2, 2], dtype=int32)"
            ]
          },
          "metadata": {},
          "execution_count": 19
        }
      ],
      "source": [
        "dataset_teste.classes"
      ]
    },
    {
      "cell_type": "code",
      "execution_count": null,
      "metadata": {
        "colab": {
          "base_uri": "https://localhost:8080/"
        },
        "id": "L1F2xTrZ6sHg",
        "outputId": "c661f46a-bb4d-4c6a-e42f-7cd3f0b15ec2"
      },
      "outputs": [
        {
          "output_type": "execute_result",
          "data": {
            "text/plain": [
              "0.9375"
            ]
          },
          "metadata": {},
          "execution_count": 20
        }
      ],
      "source": [
        "# Abordagem CNN - 0.90\n",
        "from sklearn.metrics import accuracy_score\n",
        "accuracy_score(dataset_teste.classes, previsoes)"
      ]
    },
    {
      "cell_type": "code",
      "execution_count": null,
      "metadata": {
        "colab": {
          "base_uri": "https://localhost:8080/"
        },
        "id": "38B4BZA37woq",
        "outputId": "1e8e5ca8-ec0e-4da2-abf8-96ab1a4239fd"
      },
      "outputs": [
        {
          "output_type": "execute_result",
          "data": {
            "text/plain": [
              "{'Cincinnata': 0, 'Edulis': 1, 'Foetida': 2}"
            ]
          },
          "metadata": {},
          "execution_count": 21
        }
      ],
      "source": [
        "dataset_teste.class_indices"
      ]
    },
    {
      "cell_type": "code",
      "execution_count": null,
      "metadata": {
        "colab": {
          "base_uri": "https://localhost:8080/"
        },
        "id": "ZSE7piBW8HL2",
        "outputId": "13cd6e5c-b984-4745-d9cf-38a842de3df8"
      },
      "outputs": [
        {
          "output_type": "stream",
          "name": "stdout",
          "text": [
            "              precision    recall  f1-score   support\n",
            "\n",
            "           0       1.00      1.00      1.00        12\n",
            "           1       0.80      1.00      0.89        12\n",
            "           2       1.00      0.88      0.93        24\n",
            "\n",
            "    accuracy                           0.94        48\n",
            "   macro avg       0.93      0.96      0.94        48\n",
            "weighted avg       0.95      0.94      0.94        48\n",
            "\n"
          ]
        }
      ],
      "source": [
        "from sklearn.metrics import classification_report\n",
        "print(classification_report(dataset_teste.classes, previsoes))"
      ]
    },
    {
      "cell_type": "code",
      "execution_count": null,
      "metadata": {
        "colab": {
          "base_uri": "https://localhost:8080/"
        },
        "id": "V_Mgls4aBdqi",
        "outputId": "cd6d972b-77af-4ee8-8b44-d07777ff68f4"
      },
      "outputs": [
        {
          "output_type": "execute_result",
          "data": {
            "text/plain": [
              "array([[12,  0,  0],\n",
              "       [ 0, 12,  0],\n",
              "       [ 0,  3, 21]])"
            ]
          },
          "metadata": {},
          "execution_count": 23
        }
      ],
      "source": [
        "from sklearn.metrics import confusion_matrix\n",
        "cm = confusion_matrix(dataset_teste.classes, previsoes)\n",
        "cm"
      ]
    },
    {
      "cell_type": "code",
      "execution_count": null,
      "metadata": {
        "colab": {
          "base_uri": "https://localhost:8080/",
          "height": 265
        },
        "id": "dZRT1qiDBoPn",
        "outputId": "5fc5238b-31cb-4f6f-da3a-0d365b4b3b28"
      },
      "outputs": [
        {
          "output_type": "display_data",
          "data": {
            "text/plain": [
              "<Figure size 432x288 with 2 Axes>"
            ],
            "image/png": "[encoded data removed]"
          },
          "metadata": {
            "needs_background": "light"
          }
        }
      ],
      "source": [
        "sns.heatmap(cm, annot=True);"
      ]
    }
  ],
  "metadata": {
    "colab": {
      "provenance": [],
      "include_colab_link": true
    },
    "kernelspec": {
      "display_name": "Python 3",
      "name": "python3"
    },
    "language_info": {
      "name": "python"
    }
  },
  "nbformat": 4,
  "nbformat_minor": 0
}